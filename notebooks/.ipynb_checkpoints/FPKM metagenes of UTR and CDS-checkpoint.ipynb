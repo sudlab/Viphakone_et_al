{
 "cells": [
  {
   "cell_type": "code",
   "execution_count": 9,
   "metadata": {
    "collapsed": true
   },
   "outputs": [],
   "source": [
    "import iCLIP\n",
    "import CGAT.GTF as GTF\n",
    "from functools import partial\n",
    "import CGAT.IOTools as IOTools\n",
    "import pandas"
   ]
  },
  {
   "cell_type": "code",
   "execution_count": 2,
   "metadata": {
    "collapsed": true
   },
   "outputs": [],
   "source": [
    "def flank5_meta(transcript, length):\n",
    "    \n",
    "    exons = [e for e in transcript if e.feature==\"exon\"]\n",
    "    \n",
    "    if exons[0].strand == \"-\":\n",
    "        start = max(x.end for x in exons)\n",
    "        end = start + length\n",
    "    else: \n",
    "        end = min(x.start for x in exons)\n",
    "        start = end - length\n",
    "        \n",
    "    returned_exon = GTF.entry().fromGTF(exon[0])\n",
    "    returned_exon.start = start\n",
    "    returned_exon.end = end\n",
    "    \n",
    "    return returned_exon\n",
    "    \n",
    "    \n",
    "    "
   ]
  },
  {
   "cell_type": "code",
   "execution_count": 3,
   "metadata": {
    "collapsed": true
   },
   "outputs": [],
   "source": [
    "def flank3_meta(transcript, length):\n",
    "    \n",
    "    exons = [e for e in transcript if e.feature==\"exon\"]\n",
    "    \n",
    "    if exons[0].strand == \"+\":\n",
    "        start = max(x.end for x in exons)\n",
    "        end = start + length\n",
    "    else: \n",
    "        end = min(x.start for x in exons)\n",
    "        start = end - length\n",
    "        \n",
    "    returned_exon = GTF.entry().fromGTF(exon[0])\n",
    "    returned_exon.start = start\n",
    "    returned_exon.end = end\n",
    "    \n",
    "    return returned_exon"
   ]
  },
  {
   "cell_type": "code",
   "execution_count": 5,
   "metadata": {
    "collapsed": false
   },
   "outputs": [],
   "source": [
    "def CDS_meta(transcript):\n",
    "    \n",
    "    CDS = [e for e in transcripts if e.feature==\"CDS\"]\n",
    "    \n",
    "    returned_exons = [GTF.Entry().fromGTF(e) for e in CDS]\n",
    "    for e in returned_exons:\n",
    "        e.feature == \"exon\"\n",
    "        \n",
    "    return returned_exons\n",
    "\n",
    "def UTR3_meta(transcript):\n",
    "    \n",
    "    exons = GTF.asRanges(transcript, \"exon\")\n",
    "    cds = GTF.asRanges(transcript, \"CDS\")\n",
    "\n",
    "    utrs = Intervals.truncate(exons,cds)\n",
    "\n",
    "    if transcript[0].strand == \"+\":\n",
    "        utr3 = [exon for exon in utrs\n",
    "                    if exon[0] >= cds[-1][1]]\n",
    "    else:\n",
    "        utr3 = [exon for exon in utrs\n",
    "                if exon[-1] <= cds[0][0]]\n",
    "\n",
    "    for e in transcript:\n",
    "        if e.feature == \"exon\":\n",
    "            template_exon = e\n",
    "            break\n",
    "            \n",
    "    returned_exons = []     \n",
    "    for e in utr3:\n",
    "        gtf = GTF.Entry.fromGTF(template_exon)\n",
    "        gtf.start = e[0]\n",
    "        gtf.end = e[1]\n",
    "        \n",
    "    return returned_exons\n",
    "\n",
    "\n",
    "def UTR5_meta(transcript):\n",
    "    \n",
    "    exons = GTF.asRanges(transcript, \"exon\")\n",
    "    cds = GTF.asRanges(transcript, \"CDS\")\n",
    "\n",
    "    utrs = Intervals.truncate(exons,cds)\n",
    "\n",
    "    if transcript[0].strand == \"-\":\n",
    "        utr3 = [exon for exon in utrs\n",
    "                    if exon[0] >= cds[-1][1]]\n",
    "    else:\n",
    "        utr3 = [exon for exon in utrs\n",
    "                if exon[-1] <= cds[0][0]]\n",
    "\n",
    "    for e in transcript:\n",
    "        if e.feature == \"exon\":\n",
    "            template_exon = e\n",
    "            break\n",
    "            \n",
    "    returned_exons = []     \n",
    "    for e in utr3:\n",
    "        gtf = GTF.Entry.fromGTF(template_exon)\n",
    "        gtf.start = e[0]\n",
    "        gtf.end = e[1]\n",
    "        \n",
    "    return returned_exons"
   ]
  },
  {
   "cell_type": "code",
   "execution_count": 7,
   "metadata": {
    "collapsed": false
   },
   "outputs": [],
   "source": [
    "def transcript_meta(transcript, getter, regions, names, bins, length_norm=True):\n",
    "    \n",
    "    print regions\n",
    "    region_exons = [region_fun(transcript) for region_fun in regions]\n",
    "    region_counts = [iCLIP.count_transcript(transcript, getter)]\n",
    "    region_lengths = [sum(x.end - x.start for x in r) for r in region_exons]\n",
    "    region_binned_counts = [iCLIP.bin_counts(c,l,b) for c,l,b in\n",
    "                            zip(region_counts, region_lengths, bins)]\n",
    "    if length_norm:\n",
    "        region_binned_counts = [x/l for x,l in zip(region_binned_counts, \n",
    "                                                   region_lengths)]\n",
    "    profile = pandas.concat(region_binned_counts, keys=names,\n",
    "                            names=[\"region\", \"region_bin\"])\n",
    "    return profile\n",
    "    "
   ]
  },
  {
   "cell_type": "code",
   "execution_count": 12,
   "metadata": {
    "collapsed": false
   },
   "outputs": [
    {
     "ename": "TypeError",
     "evalue": "'functools.partial' object is not iterable",
     "output_type": "error",
     "traceback": [
      "\u001b[1;31m---------------------------------------------------------------------------\u001b[0m",
      "\u001b[1;31mTypeError\u001b[0m                                 Traceback (most recent call last)",
      "\u001b[1;32m<ipython-input-12-fff90996340c>\u001b[0m in \u001b[0;36m<module>\u001b[1;34m()\u001b[0m\n\u001b[0;32m     15\u001b[0m         \u001b[1;32mcontinue\u001b[0m\u001b[1;33m\u001b[0m\u001b[0m\n\u001b[0;32m     16\u001b[0m \u001b[1;33m\u001b[0m\u001b[0m\n\u001b[1;32m---> 17\u001b[1;33m     \u001b[0mprofile\u001b[0m \u001b[1;33m=\u001b[0m \u001b[0mprofile\u001b[0m\u001b[1;33m.\u001b[0m\u001b[0madd\u001b[0m\u001b[1;33m(\u001b[0m\u001b[0mtranscript_meta\u001b[0m\u001b[1;33m(\u001b[0m\u001b[0mtranscript\u001b[0m\u001b[1;33m,\u001b[0m \u001b[0mgetter\u001b[0m\u001b[1;33m,\u001b[0m \u001b[0mregions\u001b[0m\u001b[1;33m,\u001b[0m \u001b[0mnames\u001b[0m\u001b[1;33m,\u001b[0m \u001b[0mbins\u001b[0m\u001b[1;33m)\u001b[0m\u001b[1;33m,\u001b[0m \u001b[0mfill\u001b[0m\u001b[1;33m=\u001b[0m\u001b[1;36m0\u001b[0m\u001b[1;33m)\u001b[0m\u001b[1;33m\u001b[0m\u001b[0m\n\u001b[0m\u001b[0;32m     18\u001b[0m \u001b[1;33m\u001b[0m\u001b[0m\n\u001b[0;32m     19\u001b[0m \u001b[1;33m\u001b[0m\u001b[0m\n",
      "\u001b[1;32m<ipython-input-7-49e102696993>\u001b[0m in \u001b[0;36mtranscript_meta\u001b[1;34m(transcript, regions, names, bins, length_norm)\u001b[0m\n\u001b[0;32m      1\u001b[0m \u001b[1;32mdef\u001b[0m \u001b[0mtranscript_meta\u001b[0m\u001b[1;33m(\u001b[0m\u001b[0mtranscript\u001b[0m\u001b[1;33m,\u001b[0m \u001b[0mregions\u001b[0m\u001b[1;33m,\u001b[0m \u001b[0mnames\u001b[0m\u001b[1;33m,\u001b[0m \u001b[0mbins\u001b[0m\u001b[1;33m,\u001b[0m \u001b[0mlength_norm\u001b[0m\u001b[1;33m=\u001b[0m\u001b[0mTrue\u001b[0m\u001b[1;33m)\u001b[0m\u001b[1;33m:\u001b[0m\u001b[1;33m\u001b[0m\u001b[0m\n\u001b[0;32m      2\u001b[0m \u001b[1;33m\u001b[0m\u001b[0m\n\u001b[1;32m----> 3\u001b[1;33m     \u001b[0mregion_exons\u001b[0m \u001b[1;33m=\u001b[0m \u001b[1;33m[\u001b[0m\u001b[0mregion_fun\u001b[0m\u001b[1;33m(\u001b[0m\u001b[0mtranscript\u001b[0m\u001b[1;33m)\u001b[0m \u001b[1;32mfor\u001b[0m \u001b[0mregion_fun\u001b[0m \u001b[1;32min\u001b[0m \u001b[0mregions\u001b[0m\u001b[1;33m]\u001b[0m\u001b[1;33m\u001b[0m\u001b[0m\n\u001b[0m\u001b[0;32m      4\u001b[0m     \u001b[0mregion_counts\u001b[0m \u001b[1;33m=\u001b[0m \u001b[1;33m[\u001b[0m\u001b[0miCLIP\u001b[0m\u001b[1;33m.\u001b[0m\u001b[0mcount_transcript\u001b[0m\u001b[1;33m(\u001b[0m\u001b[0mtranscript\u001b[0m\u001b[1;33m,\u001b[0m \u001b[0mgetter\u001b[0m\u001b[1;33m)\u001b[0m\u001b[1;33m]\u001b[0m\u001b[1;33m\u001b[0m\u001b[0m\n\u001b[0;32m      5\u001b[0m     \u001b[0mregion_lengths\u001b[0m \u001b[1;33m=\u001b[0m \u001b[1;33m[\u001b[0m\u001b[0msum\u001b[0m\u001b[1;33m(\u001b[0m\u001b[0mx\u001b[0m\u001b[1;33m.\u001b[0m\u001b[0mend\u001b[0m \u001b[1;33m-\u001b[0m \u001b[0mx\u001b[0m\u001b[1;33m.\u001b[0m\u001b[0mstart\u001b[0m \u001b[1;32mfor\u001b[0m \u001b[0mx\u001b[0m \u001b[1;32min\u001b[0m \u001b[0mr\u001b[0m\u001b[1;33m)\u001b[0m \u001b[1;32mfor\u001b[0m \u001b[0mr\u001b[0m \u001b[1;32min\u001b[0m \u001b[0mregion_exons\u001b[0m\u001b[1;33m]\u001b[0m\u001b[1;33m\u001b[0m\u001b[0m\n",
      "\u001b[1;31mTypeError\u001b[0m: 'functools.partial' object is not iterable"
     ]
    }
   ],
   "source": [
    "regions = [partial(flank5_meta, length=500), UTR5_meta, CDS_meta, UTR3_meta, partial(flank3_meta, length=500)]\n",
    "names = [\"5' Flank\", \"3' UTR\", \"CDS\", \"3' UTR\", \"3' Flank\"]\n",
    "bins = [100,20,100,70,100]\n",
    "profile = pandas.Series()\n",
    "getter = iCLIP.make_getter(bedfile = \"/ifs/projects/proj028/TREX_iCLIP_3reps/deduped.dir/Alyref-FLAG-union.bed.gz\")\n",
    "for transcript in GTF.transcript_iterator(\n",
    "    GTF.iterator(\n",
    "        IOTools.openFile(\n",
    "            \"/ifs/projects/proj028/project_pipeline_iCLIP5/expressed_transcripts.gtf.gz\"))):\n",
    "    \n",
    "    if transcript[0].contig != \"chr1\":\n",
    "        continue\n",
    "        \n",
    "    if transcript[0].source != \"protein_coding\":\n",
    "        continue\n",
    "        \n",
    "    profile = profile.add(transcript_meta(transcript, getter, regions, names, bins), fill=0)\n",
    "    \n",
    "    "
   ]
  },
  {
   "cell_type": "code",
   "execution_count": null,
   "metadata": {
    "collapsed": true
   },
   "outputs": [],
   "source": []
  },
  {
   "cell_type": "code",
   "execution_count": null,
   "metadata": {
    "collapsed": true
   },
   "outputs": [],
   "source": []
  }
 ],
 "metadata": {
  "kernelspec": {
   "display_name": "Python 2",
   "language": "python",
   "name": "python2"
  },
  "language_info": {
   "codemirror_mode": {
    "name": "ipython",
    "version": 2
   },
   "file_extension": ".py",
   "mimetype": "text/x-python",
   "name": "python",
   "nbconvert_exporter": "python",
   "pygments_lexer": "ipython2",
   "version": "2.7.11"
  }
 },
 "nbformat": 4,
 "nbformat_minor": 0
}
