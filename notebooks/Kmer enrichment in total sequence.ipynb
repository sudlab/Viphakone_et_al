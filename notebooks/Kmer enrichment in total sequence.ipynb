{
 "cells": [
  {
   "cell_type": "code",
   "execution_count": 1,
   "metadata": {
    "collapsed": true
   },
   "outputs": [],
   "source": [
    "from CGAT import Database\n",
    "database = \"/ifs/projects/proj028/TREX_iCLIP_3reps/csvdb\"\n"
   ]
  },
  {
   "cell_type": "code",
   "execution_count": 2,
   "metadata": {
    "collapsed": false
   },
   "outputs": [
    {
     "data": {
      "text/html": [
       "<div>\n",
       "<table border=\"1\" class=\"dataframe\">\n",
       "  <thead>\n",
       "    <tr style=\"text-align: right;\">\n",
       "      <th></th>\n",
       "      <th>type</th>\n",
       "      <th>name</th>\n",
       "      <th>tbl_name</th>\n",
       "      <th>rootpage</th>\n",
       "      <th>sql</th>\n",
       "    </tr>\n",
       "  </thead>\n",
       "  <tbody>\n",
       "    <tr>\n",
       "      <th>0</th>\n",
       "      <td>table</td>\n",
       "      <td>sample_table</td>\n",
       "      <td>sample_table</td>\n",
       "      <td>2</td>\n",
       "      <td>CREATE TABLE sample_table ( barcode TEXT, form...</td>\n",
       "    </tr>\n",
       "    <tr>\n",
       "      <th>1</th>\n",
       "      <td>table</td>\n",
       "      <td>hiseq5umi_stats</td>\n",
       "      <td>hiseq5umi_stats</td>\n",
       "      <td>5</td>\n",
       "      <td>CREATE TABLE hiseq5umi_stats ( _2018_03_31_16_...</td>\n",
       "    </tr>\n",
       "    <tr>\n",
       "      <th>2</th>\n",
       "      <td>table</td>\n",
       "      <td>misequmi_stats</td>\n",
       "      <td>misequmi_stats</td>\n",
       "      <td>109</td>\n",
       "      <td>CREATE TABLE misequmi_stats ( _2018_03_31_16_5...</td>\n",
       "    </tr>\n",
       "    <tr>\n",
       "      <th>3</th>\n",
       "      <td>table</td>\n",
       "      <td>hiseq8umi_stats</td>\n",
       "      <td>hiseq8umi_stats</td>\n",
       "      <td>120</td>\n",
       "      <td>CREATE TABLE hiseq8umi_stats ( _2018_03_31_16_...</td>\n",
       "    </tr>\n",
       "    <tr>\n",
       "      <th>4</th>\n",
       "      <td>table</td>\n",
       "      <td>hiseq7umi_stats</td>\n",
       "      <td>hiseq7umi_stats</td>\n",
       "      <td>247</td>\n",
       "      <td>CREATE TABLE hiseq7umi_stats ( _2018_03_31_16_...</td>\n",
       "    </tr>\n",
       "    <tr>\n",
       "      <th>5</th>\n",
       "      <td>table</td>\n",
       "      <td>hiseq6umi_stats</td>\n",
       "      <td>hiseq6umi_stats</td>\n",
       "      <td>375</td>\n",
       "      <td>CREATE TABLE hiseq6umi_stats ( _2018_03_31_16_...</td>\n",
       "    </tr>\n",
       "    <tr>\n",
       "      <th>6</th>\n",
       "      <td>table</td>\n",
       "      <td>geneset_all_context_interval_stats</td>\n",
       "      <td>geneset_all_context_interval_stats</td>\n",
       "      <td>479</td>\n",
       "      <td>CREATE TABLE geneset_all_context_interval_stat...</td>\n",
       "    </tr>\n",
       "    <tr>\n",
       "      <th>7</th>\n",
       "      <td>table</td>\n",
       "      <td>read_length_distribution</td>\n",
       "      <td>read_length_distribution</td>\n",
       "      <td>482</td>\n",
       "      <td>CREATE TABLE read_length_distribution ( count ...</td>\n",
       "    </tr>\n",
       "    <tr>\n",
       "      <th>8</th>\n",
       "      <td>table</td>\n",
       "      <td>deduped_bam_stats</td>\n",
       "      <td>deduped_bam_stats</td>\n",
       "      <td>595</td>\n",
       "      <td>CREATE TABLE deduped_bam_stats ( category TEXT...</td>\n",
       "    </tr>\n",
       "    <tr>\n",
       "      <th>9</th>\n",
       "      <td>table</td>\n",
       "      <td>reproducibility_distance</td>\n",
       "      <td>reproducibility_distance</td>\n",
       "      <td>618</td>\n",
       "      <td>CREATE TABLE reproducibility_distance ( File1 ...</td>\n",
       "    </tr>\n",
       "    <tr>\n",
       "      <th>10</th>\n",
       "      <td>table</td>\n",
       "      <td>all_reproducibility</td>\n",
       "      <td>all_reproducibility</td>\n",
       "      <td>643</td>\n",
       "      <td>CREATE TABLE all_reproducibility ( Track TEXT,...</td>\n",
       "    </tr>\n",
       "    <tr>\n",
       "      <th>11</th>\n",
       "      <td>table</td>\n",
       "      <td>experiment_reproducibility</td>\n",
       "      <td>experiment_reproducibility</td>\n",
       "      <td>849</td>\n",
       "      <td>CREATE TABLE experiment_reproducibility ( Expe...</td>\n",
       "    </tr>\n",
       "    <tr>\n",
       "      <th>12</th>\n",
       "      <td>table</td>\n",
       "      <td>mapping_context_stats</td>\n",
       "      <td>mapping_context_stats</td>\n",
       "      <td>910</td>\n",
       "      <td>CREATE TABLE mapping_context_stats ( alignment...</td>\n",
       "    </tr>\n",
       "    <tr>\n",
       "      <th>13</th>\n",
       "      <td>table</td>\n",
       "      <td>deduped_context_stats</td>\n",
       "      <td>deduped_context_stats</td>\n",
       "      <td>938</td>\n",
       "      <td>CREATE TABLE deduped_context_stats ( alignment...</td>\n",
       "    </tr>\n",
       "    <tr>\n",
       "      <th>14</th>\n",
       "      <td>table</td>\n",
       "      <td>deduped_nspliced</td>\n",
       "      <td>deduped_nspliced</td>\n",
       "      <td>969</td>\n",
       "      <td>CREATE TABLE deduped_nspliced ( nspliced INTEG...</td>\n",
       "    </tr>\n",
       "    <tr>\n",
       "      <th>15</th>\n",
       "      <td>table</td>\n",
       "      <td>deduped_frag_lengths</td>\n",
       "      <td>deduped_frag_lengths</td>\n",
       "      <td>971</td>\n",
       "      <td>CREATE TABLE deduped_frag_lengths ( Count INTE...</td>\n",
       "    </tr>\n",
       "    <tr>\n",
       "      <th>16</th>\n",
       "      <td>table</td>\n",
       "      <td>mapping_frag_lengths</td>\n",
       "      <td>mapping_frag_lengths</td>\n",
       "      <td>1048</td>\n",
       "      <td>CREATE TABLE mapping_frag_lengths ( Count INTE...</td>\n",
       "    </tr>\n",
       "    <tr>\n",
       "      <th>17</th>\n",
       "      <td>table</td>\n",
       "      <td>dedup_umi_stats</td>\n",
       "      <td>dedup_umi_stats</td>\n",
       "      <td>1119</td>\n",
       "      <td>CREATE TABLE dedup_umi_stats ( Count INTEGER D...</td>\n",
       "    </tr>\n",
       "    <tr>\n",
       "      <th>18</th>\n",
       "      <td>table</td>\n",
       "      <td>cross_linked_bases</td>\n",
       "      <td>cross_linked_bases</td>\n",
       "      <td>1124</td>\n",
       "      <td>CREATE TABLE cross_linked_bases ( count INTEGE...</td>\n",
       "    </tr>\n",
       "    <tr>\n",
       "      <th>19</th>\n",
       "      <td>table</td>\n",
       "      <td>cluster_counts</td>\n",
       "      <td>cluster_counts</td>\n",
       "      <td>1126</td>\n",
       "      <td>CREATE TABLE cluster_counts ( count SMALLINT D...</td>\n",
       "    </tr>\n",
       "    <tr>\n",
       "      <th>20</th>\n",
       "      <td>table</td>\n",
       "      <td>clusters_context_stats</td>\n",
       "      <td>clusters_context_stats</td>\n",
       "      <td>1127</td>\n",
       "      <td>CREATE TABLE clusters_context_stats ( alignmen...</td>\n",
       "    </tr>\n",
       "    <tr>\n",
       "      <th>21</th>\n",
       "      <td>table</td>\n",
       "      <td>sig_bases_context_stats</td>\n",
       "      <td>sig_bases_context_stats</td>\n",
       "      <td>1156</td>\n",
       "      <td>CREATE TABLE sig_bases_context_stats ( alignme...</td>\n",
       "    </tr>\n",
       "    <tr>\n",
       "      <th>22</th>\n",
       "      <td>table</td>\n",
       "      <td>sig_bases_kmers</td>\n",
       "      <td>sig_bases_kmers</td>\n",
       "      <td>1186</td>\n",
       "      <td>CREATE TABLE sig_bases_kmers ( Kmer TEXT, Z FL...</td>\n",
       "    </tr>\n",
       "    <tr>\n",
       "      <th>23</th>\n",
       "      <td>table</td>\n",
       "      <td>all_bases_kmers</td>\n",
       "      <td>all_bases_kmers</td>\n",
       "      <td>1187</td>\n",
       "      <td>CREATE TABLE all_bases_kmers ( Kmer TEXT, Z FL...</td>\n",
       "    </tr>\n",
       "  </tbody>\n",
       "</table>\n",
       "</div>"
      ],
      "text/plain": [
       "     type                                name  \\\n",
       "0   table                        sample_table   \n",
       "1   table                     hiseq5umi_stats   \n",
       "2   table                      misequmi_stats   \n",
       "3   table                     hiseq8umi_stats   \n",
       "4   table                     hiseq7umi_stats   \n",
       "5   table                     hiseq6umi_stats   \n",
       "6   table  geneset_all_context_interval_stats   \n",
       "7   table            read_length_distribution   \n",
       "8   table                   deduped_bam_stats   \n",
       "9   table            reproducibility_distance   \n",
       "10  table                 all_reproducibility   \n",
       "11  table          experiment_reproducibility   \n",
       "12  table               mapping_context_stats   \n",
       "13  table               deduped_context_stats   \n",
       "14  table                    deduped_nspliced   \n",
       "15  table                deduped_frag_lengths   \n",
       "16  table                mapping_frag_lengths   \n",
       "17  table                     dedup_umi_stats   \n",
       "18  table                  cross_linked_bases   \n",
       "19  table                      cluster_counts   \n",
       "20  table              clusters_context_stats   \n",
       "21  table             sig_bases_context_stats   \n",
       "22  table                     sig_bases_kmers   \n",
       "23  table                     all_bases_kmers   \n",
       "\n",
       "                              tbl_name  rootpage  \\\n",
       "0                         sample_table         2   \n",
       "1                      hiseq5umi_stats         5   \n",
       "2                       misequmi_stats       109   \n",
       "3                      hiseq8umi_stats       120   \n",
       "4                      hiseq7umi_stats       247   \n",
       "5                      hiseq6umi_stats       375   \n",
       "6   geneset_all_context_interval_stats       479   \n",
       "7             read_length_distribution       482   \n",
       "8                    deduped_bam_stats       595   \n",
       "9             reproducibility_distance       618   \n",
       "10                 all_reproducibility       643   \n",
       "11          experiment_reproducibility       849   \n",
       "12               mapping_context_stats       910   \n",
       "13               deduped_context_stats       938   \n",
       "14                    deduped_nspliced       969   \n",
       "15                deduped_frag_lengths       971   \n",
       "16                mapping_frag_lengths      1048   \n",
       "17                     dedup_umi_stats      1119   \n",
       "18                  cross_linked_bases      1124   \n",
       "19                      cluster_counts      1126   \n",
       "20              clusters_context_stats      1127   \n",
       "21             sig_bases_context_stats      1156   \n",
       "22                     sig_bases_kmers      1186   \n",
       "23                     all_bases_kmers      1187   \n",
       "\n",
       "                                                  sql  \n",
       "0   CREATE TABLE sample_table ( barcode TEXT, form...  \n",
       "1   CREATE TABLE hiseq5umi_stats ( _2018_03_31_16_...  \n",
       "2   CREATE TABLE misequmi_stats ( _2018_03_31_16_5...  \n",
       "3   CREATE TABLE hiseq8umi_stats ( _2018_03_31_16_...  \n",
       "4   CREATE TABLE hiseq7umi_stats ( _2018_03_31_16_...  \n",
       "5   CREATE TABLE hiseq6umi_stats ( _2018_03_31_16_...  \n",
       "6   CREATE TABLE geneset_all_context_interval_stat...  \n",
       "7   CREATE TABLE read_length_distribution ( count ...  \n",
       "8   CREATE TABLE deduped_bam_stats ( category TEXT...  \n",
       "9   CREATE TABLE reproducibility_distance ( File1 ...  \n",
       "10  CREATE TABLE all_reproducibility ( Track TEXT,...  \n",
       "11  CREATE TABLE experiment_reproducibility ( Expe...  \n",
       "12  CREATE TABLE mapping_context_stats ( alignment...  \n",
       "13  CREATE TABLE deduped_context_stats ( alignment...  \n",
       "14  CREATE TABLE deduped_nspliced ( nspliced INTEG...  \n",
       "15  CREATE TABLE deduped_frag_lengths ( Count INTE...  \n",
       "16  CREATE TABLE mapping_frag_lengths ( Count INTE...  \n",
       "17  CREATE TABLE dedup_umi_stats ( Count INTEGER D...  \n",
       "18  CREATE TABLE cross_linked_bases ( count INTEGE...  \n",
       "19  CREATE TABLE cluster_counts ( count SMALLINT D...  \n",
       "20  CREATE TABLE clusters_context_stats ( alignmen...  \n",
       "21  CREATE TABLE sig_bases_context_stats ( alignme...  \n",
       "22  CREATE TABLE sig_bases_kmers ( Kmer TEXT, Z FL...  \n",
       "23  CREATE TABLE all_bases_kmers ( Kmer TEXT, Z FL...  "
      ]
     },
     "execution_count": 2,
     "metadata": {},
     "output_type": "execute_result"
    }
   ],
   "source": [
    "Database.fetch_DataFrame(\"select * FROM sqlite_master where type='table'\", database)"
   ]
  },
  {
   "cell_type": "code",
   "execution_count": 27,
   "metadata": {
    "collapsed": false
   },
   "outputs": [
    {
     "data": {
      "text/html": [
       "<div>\n",
       "<table border=\"1\" class=\"dataframe\">\n",
       "  <thead>\n",
       "    <tr style=\"text-align: right;\">\n",
       "      <th>factor</th>\n",
       "      <th>Alyref</th>\n",
       "      <th>Chtop</th>\n",
       "      <th>Cntrl</th>\n",
       "      <th>Nxf1</th>\n",
       "    </tr>\n",
       "    <tr>\n",
       "      <th>Kmer</th>\n",
       "      <th></th>\n",
       "      <th></th>\n",
       "      <th></th>\n",
       "      <th></th>\n",
       "    </tr>\n",
       "  </thead>\n",
       "  <tbody>\n",
       "    <tr>\n",
       "      <th>AAAAAA</th>\n",
       "      <td>24.651209</td>\n",
       "      <td>47.625439</td>\n",
       "      <td>10.323381</td>\n",
       "      <td>21.629536</td>\n",
       "    </tr>\n",
       "    <tr>\n",
       "      <th>AAAAAAA</th>\n",
       "      <td>23.923551</td>\n",
       "      <td>52.365869</td>\n",
       "      <td>9.578184</td>\n",
       "      <td>17.602935</td>\n",
       "    </tr>\n",
       "    <tr>\n",
       "      <th>AAAAAAC</th>\n",
       "      <td>8.613412</td>\n",
       "      <td>18.057343</td>\n",
       "      <td>2.370274</td>\n",
       "      <td>6.644401</td>\n",
       "    </tr>\n",
       "    <tr>\n",
       "      <th>AAAAAAG</th>\n",
       "      <td>1.734181</td>\n",
       "      <td>10.262838</td>\n",
       "      <td>2.588812</td>\n",
       "      <td>2.239244</td>\n",
       "    </tr>\n",
       "    <tr>\n",
       "      <th>AAAAAAT</th>\n",
       "      <td>0.087715</td>\n",
       "      <td>15.071286</td>\n",
       "      <td>1.994915</td>\n",
       "      <td>7.059565</td>\n",
       "    </tr>\n",
       "  </tbody>\n",
       "</table>\n",
       "</div>"
      ],
      "text/plain": [
       "factor      Alyref      Chtop      Cntrl       Nxf1\n",
       "Kmer                                               \n",
       "AAAAAA   24.651209  47.625439  10.323381  21.629536\n",
       "AAAAAAA  23.923551  52.365869   9.578184  17.602935\n",
       "AAAAAAC   8.613412  18.057343   2.370274   6.644401\n",
       "AAAAAAG   1.734181  10.262838   2.588812   2.239244\n",
       "AAAAAAT   0.087715  15.071286   1.994915   7.059565"
      ]
     },
     "execution_count": 27,
     "metadata": {},
     "output_type": "execute_result"
    }
   ],
   "source": [
    "kmers = Database.fetch_DataFrame('''SELECT * \n",
    "                                        FROM all_bases_kmers \n",
    "                                        WHERE  replicate='union' ''', database)\n",
    "import pandas\n",
    "kmers[\"Z\"] = kmers[\"Z\"].astype(\"float\")\n",
    "kmers = kmers.pivot(\"Kmer\", \"factor\", \"Z\")\n",
    "kmers = kmers[~kmers.index.str.contains(\"N\")]\n",
    "kmers.head()"
   ]
  },
  {
   "cell_type": "code",
   "execution_count": 4,
   "metadata": {
    "collapsed": true
   },
   "outputs": [],
   "source": [
    "%matplotlib inline"
   ]
  },
  {
   "cell_type": "code",
   "execution_count": 12,
   "metadata": {
    "collapsed": false
   },
   "outputs": [
    {
     "data": {
      "text/plain": [
       "factor\n",
       "Kmer       object\n",
       "Alyref    float64\n",
       "Chtop     float64\n",
       "Cntrl     float64\n",
       "Nxf1      float64\n",
       "dtype: object"
      ]
     },
     "execution_count": 12,
     "metadata": {},
     "output_type": "execute_result"
    }
   ],
   "source": [
    "kmers.dtypes"
   ]
  },
  {
   "cell_type": "code",
   "execution_count": 13,
   "metadata": {
    "collapsed": false
   },
   "outputs": [
    {
     "data": {
      "text/plain": [
       "<matplotlib.axes._subplots.AxesSubplot at 0x2b25cef62790>"
      ]
     },
     "execution_count": 13,
     "metadata": {},
     "output_type": "execute_result"
    },
    {
     "data": {
      "image/png": "[encoded data removed]",
      "text/plain": [
       "<matplotlib.figure.Figure at 0x2b25cf567b10>"
      ]
     },
     "metadata": {},
     "output_type": "display_data"
    }
   ],
   "source": [
    "kmers.plot(x=\"Cntrl\", y=\"Alyref\", kind=\"scatter\")"
   ]
  },
  {
   "cell_type": "code",
   "execution_count": 16,
   "metadata": {
    "collapsed": false
   },
   "outputs": [
    {
     "data": {
      "text/plain": [
       "<matplotlib.axes._subplots.AxesSubplot at 0x2b265ed79c50>"
      ]
     },
     "execution_count": 16,
     "metadata": {},
     "output_type": "execute_result"
    },
    {
     "data": {
      "image/png": "[encoded data removed]",
      "text/plain": [
       "<matplotlib.figure.Figure at 0x2b265ed79510>"
      ]
     },
     "metadata": {},
     "output_type": "display_data"
    }
   ],
   "source": [
    "kmers.plot(x=\"Cntrl\", y=\"Chtop\", kind=\"scatter\")"
   ]
  },
  {
   "cell_type": "code",
   "execution_count": 17,
   "metadata": {
    "collapsed": false
   },
   "outputs": [
    {
     "data": {
      "text/plain": [
       "<matplotlib.axes._subplots.AxesSubplot at 0x2b2660d22d10>"
      ]
     },
     "execution_count": 17,
     "metadata": {},
     "output_type": "execute_result"
    },
    {
     "data": {
      "image/png": "[encoded data removed]",
      "text/plain": [
       "<matplotlib.figure.Figure at 0x2b2660d22410>"
      ]
     },
     "metadata": {},
     "output_type": "display_data"
    }
   ],
   "source": [
    "kmers.plot(x=\"Cntrl\", y=\"Nxf1\", kind=\"scatter\")"
   ]
  },
  {
   "cell_type": "code",
   "execution_count": 19,
   "metadata": {
    "collapsed": false
   },
   "outputs": [
    {
     "data": {
      "text/html": [
       "<div>\n",
       "<table border=\"1\" class=\"dataframe\">\n",
       "  <thead>\n",
       "    <tr style=\"text-align: right;\">\n",
       "      <th>factor</th>\n",
       "      <th>Kmer</th>\n",
       "      <th>Alyref</th>\n",
       "      <th>Chtop</th>\n",
       "      <th>Cntrl</th>\n",
       "      <th>Nxf1</th>\n",
       "    </tr>\n",
       "  </thead>\n",
       "  <tbody>\n",
       "    <tr>\n",
       "      <th>21077</th>\n",
       "      <td>TTTTTT</td>\n",
       "      <td>289.026021</td>\n",
       "      <td>250.733740</td>\n",
       "      <td>101.758011</td>\n",
       "      <td>173.159425</td>\n",
       "    </tr>\n",
       "    <tr>\n",
       "      <th>21081</th>\n",
       "      <td>TTTTTTT</td>\n",
       "      <td>255.853685</td>\n",
       "      <td>216.062477</td>\n",
       "      <td>86.607790</td>\n",
       "      <td>184.524078</td>\n",
       "    </tr>\n",
       "    <tr>\n",
       "      <th>21080</th>\n",
       "      <td>TTTTTTG</td>\n",
       "      <td>219.713575</td>\n",
       "      <td>153.882925</td>\n",
       "      <td>80.627716</td>\n",
       "      <td>131.737192</td>\n",
       "    </tr>\n",
       "    <tr>\n",
       "      <th>21072</th>\n",
       "      <td>TTTTTG</td>\n",
       "      <td>185.938305</td>\n",
       "      <td>134.042229</td>\n",
       "      <td>66.889851</td>\n",
       "      <td>118.954012</td>\n",
       "    </tr>\n",
       "    <tr>\n",
       "      <th>5224</th>\n",
       "      <td>ATTTTT</td>\n",
       "      <td>179.223004</td>\n",
       "      <td>170.313163</td>\n",
       "      <td>76.271267</td>\n",
       "      <td>109.623477</td>\n",
       "    </tr>\n",
       "  </tbody>\n",
       "</table>\n",
       "</div>"
      ],
      "text/plain": [
       "factor     Kmer      Alyref       Chtop       Cntrl        Nxf1\n",
       "21077    TTTTTT  289.026021  250.733740  101.758011  173.159425\n",
       "21081   TTTTTTT  255.853685  216.062477   86.607790  184.524078\n",
       "21080   TTTTTTG  219.713575  153.882925   80.627716  131.737192\n",
       "21072    TTTTTG  185.938305  134.042229   66.889851  118.954012\n",
       "5224     ATTTTT  179.223004  170.313163   76.271267  109.623477"
      ]
     },
     "execution_count": 19,
     "metadata": {},
     "output_type": "execute_result"
    }
   ],
   "source": [
    "kmers.sort_values(\"Alyref\", ascending=False).head()"
   ]
  },
  {
   "cell_type": "code",
   "execution_count": 23,
   "metadata": {
    "collapsed": false
   },
   "outputs": [
    {
     "data": {
      "text/html": [
       "<div>\n",
       "<table border=\"1\" class=\"dataframe\">\n",
       "  <thead>\n",
       "    <tr style=\"text-align: right;\">\n",
       "      <th>factor</th>\n",
       "      <th>Kmer</th>\n",
       "      <th>Alyref</th>\n",
       "      <th>Chtop</th>\n",
       "      <th>Cntrl</th>\n",
       "      <th>Nxf1</th>\n",
       "    </tr>\n",
       "  </thead>\n",
       "  <tbody>\n",
       "    <tr>\n",
       "      <th>21077</th>\n",
       "      <td>TTTTTT</td>\n",
       "      <td>289.026021</td>\n",
       "      <td>250.733740</td>\n",
       "      <td>101.758011</td>\n",
       "      <td>173.159425</td>\n",
       "    </tr>\n",
       "    <tr>\n",
       "      <th>21081</th>\n",
       "      <td>TTTTTTT</td>\n",
       "      <td>255.853685</td>\n",
       "      <td>216.062477</td>\n",
       "      <td>86.607790</td>\n",
       "      <td>184.524078</td>\n",
       "    </tr>\n",
       "    <tr>\n",
       "      <th>5224</th>\n",
       "      <td>ATTTTT</td>\n",
       "      <td>179.223004</td>\n",
       "      <td>170.313163</td>\n",
       "      <td>76.271267</td>\n",
       "      <td>109.623477</td>\n",
       "    </tr>\n",
       "    <tr>\n",
       "      <th>10416</th>\n",
       "      <td>CTTTTTT</td>\n",
       "      <td>167.204803</td>\n",
       "      <td>163.996084</td>\n",
       "      <td>57.402551</td>\n",
       "      <td>107.214472</td>\n",
       "    </tr>\n",
       "    <tr>\n",
       "      <th>21080</th>\n",
       "      <td>TTTTTTG</td>\n",
       "      <td>219.713575</td>\n",
       "      <td>153.882925</td>\n",
       "      <td>80.627716</td>\n",
       "      <td>131.737192</td>\n",
       "    </tr>\n",
       "  </tbody>\n",
       "</table>\n",
       "</div>"
      ],
      "text/plain": [
       "factor     Kmer      Alyref       Chtop       Cntrl        Nxf1\n",
       "21077    TTTTTT  289.026021  250.733740  101.758011  173.159425\n",
       "21081   TTTTTTT  255.853685  216.062477   86.607790  184.524078\n",
       "5224     ATTTTT  179.223004  170.313163   76.271267  109.623477\n",
       "10416   CTTTTTT  167.204803  163.996084   57.402551  107.214472\n",
       "21080   TTTTTTG  219.713575  153.882925   80.627716  131.737192"
      ]
     },
     "execution_count": 23,
     "metadata": {},
     "output_type": "execute_result"
    }
   ],
   "source": [
    "kmers.sort_values(\"Chtop\", ascending=False).head()"
   ]
  },
  {
   "cell_type": "code",
   "execution_count": 25,
   "metadata": {
    "collapsed": false
   },
   "outputs": [
    {
     "data": {
      "text/html": [
       "<div>\n",
       "<table border=\"1\" class=\"dataframe\">\n",
       "  <thead>\n",
       "    <tr style=\"text-align: right;\">\n",
       "      <th>factor</th>\n",
       "      <th>Kmer</th>\n",
       "      <th>Alyref</th>\n",
       "      <th>Chtop</th>\n",
       "      <th>Cntrl</th>\n",
       "      <th>Nxf1</th>\n",
       "    </tr>\n",
       "  </thead>\n",
       "  <tbody>\n",
       "    <tr>\n",
       "      <th>21081</th>\n",
       "      <td>TTTTTTT</td>\n",
       "      <td>255.853685</td>\n",
       "      <td>216.062477</td>\n",
       "      <td>86.607790</td>\n",
       "      <td>184.524078</td>\n",
       "    </tr>\n",
       "    <tr>\n",
       "      <th>21077</th>\n",
       "      <td>TTTTTT</td>\n",
       "      <td>289.026021</td>\n",
       "      <td>250.733740</td>\n",
       "      <td>101.758011</td>\n",
       "      <td>173.159425</td>\n",
       "    </tr>\n",
       "    <tr>\n",
       "      <th>21080</th>\n",
       "      <td>TTTTTTG</td>\n",
       "      <td>219.713575</td>\n",
       "      <td>153.882925</td>\n",
       "      <td>80.627716</td>\n",
       "      <td>131.737192</td>\n",
       "    </tr>\n",
       "    <tr>\n",
       "      <th>21073</th>\n",
       "      <td>TTTTTGA</td>\n",
       "      <td>141.909546</td>\n",
       "      <td>113.668060</td>\n",
       "      <td>55.253124</td>\n",
       "      <td>123.121437</td>\n",
       "    </tr>\n",
       "    <tr>\n",
       "      <th>21072</th>\n",
       "      <td>TTTTTG</td>\n",
       "      <td>185.938305</td>\n",
       "      <td>134.042229</td>\n",
       "      <td>66.889851</td>\n",
       "      <td>118.954012</td>\n",
       "    </tr>\n",
       "  </tbody>\n",
       "</table>\n",
       "</div>"
      ],
      "text/plain": [
       "factor     Kmer      Alyref       Chtop       Cntrl        Nxf1\n",
       "21081   TTTTTTT  255.853685  216.062477   86.607790  184.524078\n",
       "21077    TTTTTT  289.026021  250.733740  101.758011  173.159425\n",
       "21080   TTTTTTG  219.713575  153.882925   80.627716  131.737192\n",
       "21073   TTTTTGA  141.909546  113.668060   55.253124  123.121437\n",
       "21072    TTTTTG  185.938305  134.042229   66.889851  118.954012"
      ]
     },
     "execution_count": 25,
     "metadata": {},
     "output_type": "execute_result"
    }
   ],
   "source": [
    "kmers.sort_values(\"Nxf1\", ascending=False).head()"
   ]
  },
  {
   "cell_type": "code",
   "execution_count": 28,
   "metadata": {
    "collapsed": false
   },
   "outputs": [
    {
     "data": {
      "text/html": [
       "<div>\n",
       "<table border=\"1\" class=\"dataframe\">\n",
       "  <thead>\n",
       "    <tr style=\"text-align: right;\">\n",
       "      <th>factor</th>\n",
       "      <th>Alyref</th>\n",
       "      <th>Chtop</th>\n",
       "      <th>Cntrl</th>\n",
       "      <th>Nxf1</th>\n",
       "    </tr>\n",
       "    <tr>\n",
       "      <th>Kmer</th>\n",
       "      <th></th>\n",
       "      <th></th>\n",
       "      <th></th>\n",
       "      <th></th>\n",
       "    </tr>\n",
       "  </thead>\n",
       "  <tbody>\n",
       "    <tr>\n",
       "      <th>TTTTTT</th>\n",
       "      <td>289.026021</td>\n",
       "      <td>250.733740</td>\n",
       "      <td>101.758011</td>\n",
       "      <td>173.159425</td>\n",
       "    </tr>\n",
       "    <tr>\n",
       "      <th>TTTTTTT</th>\n",
       "      <td>255.853685</td>\n",
       "      <td>216.062477</td>\n",
       "      <td>86.607790</td>\n",
       "      <td>184.524078</td>\n",
       "    </tr>\n",
       "    <tr>\n",
       "      <th>TTTTTTG</th>\n",
       "      <td>219.713575</td>\n",
       "      <td>153.882925</td>\n",
       "      <td>80.627716</td>\n",
       "      <td>131.737192</td>\n",
       "    </tr>\n",
       "    <tr>\n",
       "      <th>ATTTTT</th>\n",
       "      <td>179.223004</td>\n",
       "      <td>170.313163</td>\n",
       "      <td>76.271267</td>\n",
       "      <td>109.623477</td>\n",
       "    </tr>\n",
       "    <tr>\n",
       "      <th>TTTTTG</th>\n",
       "      <td>185.938305</td>\n",
       "      <td>134.042229</td>\n",
       "      <td>66.889851</td>\n",
       "      <td>118.954012</td>\n",
       "    </tr>\n",
       "  </tbody>\n",
       "</table>\n",
       "</div>"
      ],
      "text/plain": [
       "factor       Alyref       Chtop       Cntrl        Nxf1\n",
       "Kmer                                                   \n",
       "TTTTTT   289.026021  250.733740  101.758011  173.159425\n",
       "TTTTTTT  255.853685  216.062477   86.607790  184.524078\n",
       "TTTTTTG  219.713575  153.882925   80.627716  131.737192\n",
       "ATTTTT   179.223004  170.313163   76.271267  109.623477\n",
       "TTTTTG   185.938305  134.042229   66.889851  118.954012"
      ]
     },
     "execution_count": 28,
     "metadata": {},
     "output_type": "execute_result"
    }
   ],
   "source": [
    "kmers.sort_values(\"Cntrl\", ascending=False).head()"
   ]
  },
  {
   "cell_type": "code",
   "execution_count": 58,
   "metadata": {
    "collapsed": false,
    "scrolled": true
   },
   "outputs": [
    {
     "data": {
      "text/plain": [
       "factor\n",
       "Alyref    2.127582\n",
       "Chtop     1.953260\n",
       "Cntrl     1.000000\n",
       "Nxf1      1.436372\n",
       "dtype: float64"
      ]
     },
     "execution_count": 58,
     "metadata": {},
     "output_type": "execute_result"
    }
   ],
   "source": [
    "rs = kmers.corr()[\"Cntrl\"]\n",
    "sds=kmers.std()\n",
    "slopes = rs*(sds/sds[\"Cntrl\"])\n",
    "slopes"
   ]
  },
  {
   "cell_type": "code",
   "execution_count": 55,
   "metadata": {
    "collapsed": false
   },
   "outputs": [
    {
     "data": {
      "text/plain": [
       "factor\n",
       "Alyref    0.389339\n",
       "Chtop    -0.062973\n",
       "Cntrl     0.000000\n",
       "Nxf1     -0.001727\n",
       "dtype: float64"
      ]
     },
     "execution_count": 55,
     "metadata": {},
     "output_type": "execute_result"
    }
   ],
   "source": [
    "ms = kmers.mean()\n",
    "intercept= ms - slopes*ms[\"Cntrl\"]\n",
    "intercept"
   ]
  },
  {
   "cell_type": "code",
   "execution_count": 61,
   "metadata": {
    "collapsed": true
   },
   "outputs": [],
   "source": [
    "normed_kmers = kmers / slopes - intercept"
   ]
  },
  {
   "cell_type": "code",
   "execution_count": 67,
   "metadata": {
    "collapsed": false
   },
   "outputs": [],
   "source": [
    "distance = normed_kmers.subtract(normed_kmers[\"Cntrl\"], axis='index')"
   ]
  },
  {
   "cell_type": "code",
   "execution_count": 88,
   "metadata": {
    "collapsed": false
   },
   "outputs": [
    {
     "data": {
      "text/html": [
       "<div>\n",
       "<table border=\"1\" class=\"dataframe\">\n",
       "  <thead>\n",
       "    <tr style=\"text-align: right;\">\n",
       "      <th>factor</th>\n",
       "      <th>Alyref</th>\n",
       "      <th>Chtop</th>\n",
       "      <th>Cntrl</th>\n",
       "      <th>Nxf1</th>\n",
       "    </tr>\n",
       "    <tr>\n",
       "      <th>Kmer</th>\n",
       "      <th></th>\n",
       "      <th></th>\n",
       "      <th></th>\n",
       "      <th></th>\n",
       "    </tr>\n",
       "  </thead>\n",
       "  <tbody>\n",
       "    <tr>\n",
       "      <th>TTTTGAG</th>\n",
       "      <td>19.797624</td>\n",
       "      <td>-2.244875</td>\n",
       "      <td>0.0</td>\n",
       "      <td>18.020073</td>\n",
       "    </tr>\n",
       "    <tr>\n",
       "      <th>TTGAGAC</th>\n",
       "      <td>15.502172</td>\n",
       "      <td>-3.224671</td>\n",
       "      <td>0.0</td>\n",
       "      <td>23.236369</td>\n",
       "    </tr>\n",
       "    <tr>\n",
       "      <th>TTTGAGA</th>\n",
       "      <td>14.684255</td>\n",
       "      <td>-5.193478</td>\n",
       "      <td>0.0</td>\n",
       "      <td>20.165591</td>\n",
       "    </tr>\n",
       "    <tr>\n",
       "      <th>TTGAGA</th>\n",
       "      <td>14.338197</td>\n",
       "      <td>-3.957668</td>\n",
       "      <td>0.0</td>\n",
       "      <td>15.192089</td>\n",
       "    </tr>\n",
       "    <tr>\n",
       "      <th>TGAGACG</th>\n",
       "      <td>12.041199</td>\n",
       "      <td>-5.711120</td>\n",
       "      <td>0.0</td>\n",
       "      <td>11.802615</td>\n",
       "    </tr>\n",
       "    <tr>\n",
       "      <th>TTTTGG</th>\n",
       "      <td>11.555857</td>\n",
       "      <td>10.197265</td>\n",
       "      <td>0.0</td>\n",
       "      <td>4.575761</td>\n",
       "    </tr>\n",
       "    <tr>\n",
       "      <th>TTTTGC</th>\n",
       "      <td>10.406780</td>\n",
       "      <td>9.362734</td>\n",
       "      <td>0.0</td>\n",
       "      <td>1.196159</td>\n",
       "    </tr>\n",
       "    <tr>\n",
       "      <th>TTTGGC</th>\n",
       "      <td>10.173591</td>\n",
       "      <td>10.183910</td>\n",
       "      <td>0.0</td>\n",
       "      <td>4.076029</td>\n",
       "    </tr>\n",
       "    <tr>\n",
       "      <th>GAAGAT</th>\n",
       "      <td>10.073711</td>\n",
       "      <td>3.234685</td>\n",
       "      <td>0.0</td>\n",
       "      <td>2.987829</td>\n",
       "    </tr>\n",
       "    <tr>\n",
       "      <th>ATGGCG</th>\n",
       "      <td>9.995570</td>\n",
       "      <td>-1.345212</td>\n",
       "      <td>0.0</td>\n",
       "      <td>1.461632</td>\n",
       "    </tr>\n",
       "    <tr>\n",
       "      <th>TTTGAG</th>\n",
       "      <td>9.995173</td>\n",
       "      <td>-2.572368</td>\n",
       "      <td>0.0</td>\n",
       "      <td>15.874059</td>\n",
       "    </tr>\n",
       "    <tr>\n",
       "      <th>AGCTTT</th>\n",
       "      <td>9.796952</td>\n",
       "      <td>11.365560</td>\n",
       "      <td>0.0</td>\n",
       "      <td>3.067594</td>\n",
       "    </tr>\n",
       "    <tr>\n",
       "      <th>TTTGGA</th>\n",
       "      <td>9.440615</td>\n",
       "      <td>8.580460</td>\n",
       "      <td>0.0</td>\n",
       "      <td>1.283180</td>\n",
       "    </tr>\n",
       "    <tr>\n",
       "      <th>GTTTTG</th>\n",
       "      <td>9.424107</td>\n",
       "      <td>6.546933</td>\n",
       "      <td>0.0</td>\n",
       "      <td>6.305726</td>\n",
       "    </tr>\n",
       "    <tr>\n",
       "      <th>TCATCA</th>\n",
       "      <td>9.283154</td>\n",
       "      <td>7.547171</td>\n",
       "      <td>0.0</td>\n",
       "      <td>6.177807</td>\n",
       "    </tr>\n",
       "    <tr>\n",
       "      <th>TGAAGA</th>\n",
       "      <td>9.281733</td>\n",
       "      <td>5.262502</td>\n",
       "      <td>0.0</td>\n",
       "      <td>2.803152</td>\n",
       "    </tr>\n",
       "    <tr>\n",
       "      <th>TTTGATG</th>\n",
       "      <td>9.241069</td>\n",
       "      <td>5.553556</td>\n",
       "      <td>0.0</td>\n",
       "      <td>2.108252</td>\n",
       "    </tr>\n",
       "    <tr>\n",
       "      <th>TTTTAAG</th>\n",
       "      <td>9.166984</td>\n",
       "      <td>11.087159</td>\n",
       "      <td>0.0</td>\n",
       "      <td>4.571730</td>\n",
       "    </tr>\n",
       "    <tr>\n",
       "      <th>CTTTTG</th>\n",
       "      <td>9.126166</td>\n",
       "      <td>13.269087</td>\n",
       "      <td>0.0</td>\n",
       "      <td>2.182036</td>\n",
       "    </tr>\n",
       "    <tr>\n",
       "      <th>TTTGCA</th>\n",
       "      <td>8.844873</td>\n",
       "      <td>11.648844</td>\n",
       "      <td>0.0</td>\n",
       "      <td>1.401824</td>\n",
       "    </tr>\n",
       "  </tbody>\n",
       "</table>\n",
       "</div>"
      ],
      "text/plain": [
       "factor      Alyref      Chtop  Cntrl       Nxf1\n",
       "Kmer                                           \n",
       "TTTTGAG  19.797624  -2.244875    0.0  18.020073\n",
       "TTGAGAC  15.502172  -3.224671    0.0  23.236369\n",
       "TTTGAGA  14.684255  -5.193478    0.0  20.165591\n",
       "TTGAGA   14.338197  -3.957668    0.0  15.192089\n",
       "TGAGACG  12.041199  -5.711120    0.0  11.802615\n",
       "TTTTGG   11.555857  10.197265    0.0   4.575761\n",
       "TTTTGC   10.406780   9.362734    0.0   1.196159\n",
       "TTTGGC   10.173591  10.183910    0.0   4.076029\n",
       "GAAGAT   10.073711   3.234685    0.0   2.987829\n",
       "ATGGCG    9.995570  -1.345212    0.0   1.461632\n",
       "TTTGAG    9.995173  -2.572368    0.0  15.874059\n",
       "AGCTTT    9.796952  11.365560    0.0   3.067594\n",
       "TTTGGA    9.440615   8.580460    0.0   1.283180\n",
       "GTTTTG    9.424107   6.546933    0.0   6.305726\n",
       "TCATCA    9.283154   7.547171    0.0   6.177807\n",
       "TGAAGA    9.281733   5.262502    0.0   2.803152\n",
       "TTTGATG   9.241069   5.553556    0.0   2.108252\n",
       "TTTTAAG   9.166984  11.087159    0.0   4.571730\n",
       "CTTTTG    9.126166  13.269087    0.0   2.182036\n",
       "TTTGCA    8.844873  11.648844    0.0   1.401824"
      ]
     },
     "execution_count": 88,
     "metadata": {},
     "output_type": "execute_result"
    }
   ],
   "source": [
    "distance[ts<5].sort_values(\"Alyref\", ascending=False).head(n=20)"
   ]
  },
  {
   "cell_type": "code",
   "execution_count": 89,
   "metadata": {
    "collapsed": false
   },
   "outputs": [
    {
     "data": {
      "text/plain": [
       "<matplotlib.axes._subplots.AxesSubplot at 0x2b265fba2d90>"
      ]
     },
     "execution_count": 89,
     "metadata": {},
     "output_type": "execute_result"
    },
    {
     "data": {
      "image/png": "[encoded data removed]",
      "text/plain": [
       "<matplotlib.figure.Figure at 0x2b25d88bae50>"
      ]
     },
     "metadata": {},
     "output_type": "display_data"
    }
   ],
   "source": [
    "import matplotlib.pyplot as plt\n",
    "ax = normed_kmers.plot(\"Cntrl\", \"Alyref\", kind=\"scatter\")\n",
    "ax.plot((normed_kmers[\"Cntrl\"].min(), normed_kmers[\"Cntrl\"].max()),\n",
    "         (normed_kmers[\"Cntrl\"].min(), normed_kmers[\"Cntrl\"].max()),\n",
    "         \"--\")\n",
    "ts = normed_kmers.index.str.count(\"T\")\n",
    "normed_kmers.loc[ts>4].plot(x=\"Cntrl\", y=\"Alyref\", ax=ax, kind=\"scatter\", color=\"red\")"
   ]
  }
 ],
 "metadata": {
  "kernelspec": {
   "display_name": "Python 2",
   "language": "python",
   "name": "python2"
  },
  "language_info": {
   "codemirror_mode": {
    "name": "ipython",
    "version": 2
   },
   "file_extension": ".py",
   "mimetype": "text/x-python",
   "name": "python",
   "nbconvert_exporter": "python",
   "pygments_lexer": "ipython2",
   "version": "2.7.11"
  }
 },
 "nbformat": 4,
 "nbformat_minor": 0
}
